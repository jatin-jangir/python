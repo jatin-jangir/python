{
 "cells": [
  {
   "cell_type": "code",
   "execution_count": 1,
   "id": "f3e6847f-86e5-481c-8bff-abe8381454d1",
   "metadata": {},
   "outputs": [
    {
     "name": "stdout",
     "output_type": "stream",
     "text": [
      "hello world\n"
     ]
    }
   ],
   "source": [
    "print(\"hello world\")"
   ]
  },
  {
   "cell_type": "code",
   "execution_count": 2,
   "id": "8c941a22-82ee-48a0-8667-173e52f35ff0",
   "metadata": {},
   "outputs": [],
   "source": [
    "from tkinter import *"
   ]
  },
  {
   "cell_type": "markdown",
   "id": "a4474cc7-479b-46e9-ae39-14d00daae18b",
   "metadata": {},
   "source": [
    "basic window size\n"
   ]
  },
  {
   "cell_type": "code",
   "execution_count": 3,
   "id": "4023fe04-d9da-4762-b247-10477ec05522",
   "metadata": {},
   "outputs": [],
   "source": [
    "window1=Tk()\n",
    "\n",
    "#wudthxheight\n",
    "window1.geometry(\"200x200\")\n",
    "window1.minsize(150,150)\n",
    "window1.maxsize(500,500)\n",
    "\n",
    "window1.mainloop()"
   ]
  },
  {
   "cell_type": "markdown",
   "id": "03a4eaf7-01a8-4651-8afc-07943f28185a",
   "metadata": {},
   "source": [
    "label\n"
   ]
  },
  {
   "cell_type": "code",
   "execution_count": 4,
   "id": "d55f488d-4db6-4f1b-aaaf-3efc05875a7f",
   "metadata": {},
   "outputs": [],
   "source": [
    "window2=Tk()\n",
    "\n",
    "#create label\n",
    "lab1=Label(text=\"label1 demo\")\n",
    "\n",
    "#paste lab1 in window2\n",
    "lab1.pack()\n",
    "\n",
    "window2.mainloop()"
   ]
  },
  {
   "cell_type": "markdown",
   "id": "6af3acbb-cf92-40d0-8412-2a2df2b24f1f",
   "metadata": {},
   "source": [
    "images\n"
   ]
  },
  {
   "cell_type": "code",
   "execution_count": 5,
   "id": "c5428617-afe1-47c3-99a1-b72ade2d1d28",
   "metadata": {},
   "outputs": [],
   "source": [
    "window3=Tk()\n",
    "\n",
    "#create image\n",
    "window3.geometry(\"600x600\")\n",
    "photo =PhotoImage(file=\"C:\\\\Users\\\\jatin\\\\Pictures\\\\Saved Pictures\\\\DAMAGE.png\")\n",
    "\n",
    "#for jpg image we have to use \"from PIL import Image,ImageTk\"\n",
    "# and create image variable(img_var) from Image.open(address)\n",
    "# and pass the image variable by {ImageTk.photoImage(img_var)}\n",
    "\n",
    "#import photo in label and show it in window3\n",
    "lab2=Label(image=photo)\n",
    "lab2.pack()\n",
    "\n",
    "\n",
    "window3.mainloop()"
   ]
  },
  {
   "cell_type": "markdown",
   "id": "60cb7ae3-7638-4cd7-9200-9b078c9c7e84",
   "metadata": {},
   "source": [
    "Pack() attribute\n"
   ]
  },
  {
   "cell_type": "code",
   "execution_count": 6,
   "id": "3c5c3535-4b75-4d64-8889-ee446afd1eb7",
   "metadata": {},
   "outputs": [],
   "source": [
    "window4=Tk()\n",
    "\n",
    "#set title\n",
    "window4.title(\"tkinter demo\")\n",
    "\n",
    "#label options\n",
    "'''\n",
    "  text- add text\n",
    "  bd -back ground\n",
    "  fg - foreground\n",
    "  font -set font\n",
    "  padx - x padding\n",
    "  pady - y padding\n",
    "  relief - border styling .. SUNKEN , RAISED ...\n",
    "'''\n",
    "\n",
    "title_lab=Label(text=\"efofijijfoiwewhqwewihwewohhwewfohowefuhweuh\\n wewofihefoioheofihwei \\n wefoiwefiweoio\", \n",
    "                bg='black', \n",
    "                fg=\"white\", \n",
    "                padx=20,\n",
    "                pady=40,\n",
    "                font=(\"comicansms\",26,\"bold\"),\n",
    "                relief=SUNKEN,\n",
    "                borderwidth=5\n",
    "               )\n",
    "\n",
    "#pack() attribute\n",
    "'''\n",
    "anchor - NE, NW ...\n",
    "side - default\"TOP\" ,BOTTOM, LEFT, RIGHT\n",
    "fill - it will porvide strech to the label it have to inputs i.e. X,Y\n",
    "padx - pady - padding \n",
    "'''\n",
    "title_lab.pack(side=BOTTOM,anchor='se')\n",
    "\n",
    "window4.mainloop()"
   ]
  },
  {
   "cell_type": "markdown",
   "id": "387e26f4-6fa4-4f15-92cc-19a113c3e6a1",
   "metadata": {},
   "source": [
    "frames"
   ]
  },
  {
   "cell_type": "code",
   "execution_count": 7,
   "id": "7f2ac63a-48bc-4241-9008-d4b61ed90354",
   "metadata": {},
   "outputs": [],
   "source": [
    "window5=Tk()\n",
    "\n",
    "#frame declaration\n",
    "frame1=Frame(window5,bg=\"grey\",borderwidth=8,relief=SUNKEN)\n",
    "\n",
    "#pack\n",
    "frame1.pack(side=LEFT,fill='y')\n",
    "\n",
    "frame2=Frame(window5,borderwidth=12,bg=\"black\",relief=SUNKEN)\n",
    "frame2.pack(side=TOP,fill='x')\n",
    "\n",
    "#add lable in frame\n",
    "l1=Label(frame1,text=\"we are in frame1\")\n",
    "l1.pack(pady=50)\n",
    "\n",
    "l1=Label(frame2,text=\"we are in frame2\")\n",
    "l1.pack()\n",
    "\n",
    "window5.mainloop()"
   ]
  },
  {
   "cell_type": "markdown",
   "id": "1f8a6582-bac0-48b3-9121-31b88c250880",
   "metadata": {},
   "source": [
    "button\n"
   ]
  },
  {
   "cell_type": "code",
   "execution_count": 8,
   "id": "3c646821-b945-419e-9781-2deb10e6d850",
   "metadata": {},
   "outputs": [],
   "source": [
    "\n",
    "win6=Tk()\n",
    "\n",
    "def printW():\n",
    "    lab=Label(win6,text=\"yes yes yes\",fg=\"blue\",font=(\"\",19))\n",
    "    lab.pack(side=RIGHT)\n",
    "    \n",
    "    \n",
    "#frame \n",
    "f1=Frame(win6,bg=\"grey\",relief=SUNKEN)\n",
    "f1.pack(side=LEFT,anchor=\"nw\")\n",
    "\n",
    "#button\n",
    "b1=Button(f1,fg=\"blue\",text=\"button\" , command=printW)\n",
    "b1.pack()\n",
    "\n",
    "win6.mainloop()"
   ]
  },
  {
   "cell_type": "markdown",
   "id": "dd624a94-8a6f-4a88-8c27-f937b2f1a6af",
   "metadata": {},
   "source": [
    "grid layout\n"
   ]
  },
  {
   "cell_type": "code",
   "execution_count": 18,
   "id": "6d8ca0f5-b5e2-49c0-a09e-05cf7ba978a6",
   "metadata": {},
   "outputs": [],
   "source": [
    "win7=Tk()\n",
    "\n",
    "win7.geometry(\"455x555\")\n",
    "\n",
    "#labels\n",
    "user=Label(win7,text=\"username\")\n",
    "passw=Label(win7,text=\"Password\")\n",
    "\n",
    "user.grid()\n",
    "passw.grid(row=2)\n",
    "\n",
    "#variable classes\n",
    "'''\n",
    "1.BooleanVar\n",
    "2.DoubleVar\n",
    "3.IntVar\n",
    "4.StringVar\n",
    "'''\n",
    "\n",
    "uservalue=StringVar()\n",
    "passvalue=StringVar()\n",
    "\n",
    "userentry=Entry(win7,textvariable=uservalue)\n",
    "passentry=Entry(win7,textvariable=passvalue)\n",
    "\n",
    "userentry.grid(row=0,column=1)\n",
    "passentry.grid(row=2,column=1)\n",
    "\n",
    "#to get value we use userentery.get()\n",
    "\n",
    "win7.mainloop()"
   ]
  },
  {
   "cell_type": "markdown",
   "id": "c22f86b7-0b6c-41ff-abb8-1076df66f87d",
   "metadata": {},
   "source": [
    "CANVAS \n"
   ]
  },
  {
   "cell_type": "code",
   "execution_count": 36,
   "id": "b246a160-90a8-46c6-bac8-4b15b9fb9423",
   "metadata": {},
   "outputs": [],
   "source": [
    "win8=Tk()\n",
    "\n",
    "win8.geometry(f\"{800}x{400}\")\n",
    "#canvas declaration\n",
    "canvas1=Canvas(win8,width=800,height=400)\n",
    "canvas1.pack()\n",
    "\n",
    "#create line from x1,y1  to x2,y2\n",
    "canvas1.create_line(0,0,800,400)\n",
    "canvas1.create_line(0,400,800,0)\n",
    "\n",
    "#create rectangle\n",
    "canvas1.create_rectangle(200,100,600,300, fill=\"grey\")\n",
    "\n",
    "#create oval\n",
    "canvas1.create_oval(200,100,600,300)\n",
    "\n",
    "#create text with center coordinate\n",
    "canvas1.create_text(400,200,text=\"tkinter\")\n",
    "\n",
    "win8.mainloop()"
   ]
  },
  {
   "cell_type": "markdown",
   "id": "bed22e74-60ef-480b-9c3b-43afe787f352",
   "metadata": {},
   "source": [
    "Handling Events\n"
   ]
  },
  {
   "cell_type": "code",
   "execution_count": 4,
   "id": "2e7e6ea7-2408-44bd-9924-fd6337ed016e",
   "metadata": {},
   "outputs": [
    {
     "name": "stdout",
     "output_type": "stream",
     "text": [
      "you clicked button\n"
     ]
    }
   ],
   "source": [
    "win9=Tk()\n",
    "\n",
    "def harry(event):\n",
    "    print(f\"you clicked button\")\n",
    "\n",
    "button1=Button(win9,text=\"click me\")\n",
    "button1.pack()\n",
    "\n",
    "button1.bind('<Button-1>',harry)\n",
    "\n",
    "win9.mainloop()"
   ]
  },
  {
   "cell_type": "markdown",
   "id": "12b89df0-b6f8-4084-9b26-dc62524f4fa1",
   "metadata": {},
   "source": [
    "menu and submenu"
   ]
  },
  {
   "cell_type": "code",
   "execution_count": 3,
   "id": "768240b7-de21-4303-839e-8228aa823318",
   "metadata": {},
   "outputs": [],
   "source": [
    "win10=Tk()\n",
    "\n",
    "def myfunc():\n",
    "    lab=Label(win10,text='hii')\n",
    "    lab.pack()\n",
    "    \n",
    "#MENU\n",
    "'''\n",
    "mymenu=Menu(win10)\n",
    "mymenu.add_command(label=\"File\",command=myfunc)\n",
    "mymenu.add_command(label=\"Exit\",command=quit)\n",
    "\n",
    "win10.config(menu=mymenu)\n",
    "'''\n",
    "\n",
    "#subMENU\n",
    "filemenu=Menu(win10)\n",
    "m1=Menu(filemenu)\n",
    "m1.add_command(label=\"new\",command=myfunc)\n",
    "m1.add_command(label=\"save\",command=myfunc)\n",
    "m1.add_command(label=\"save as\",command=myfunc)\n",
    "m1.add_command(label=\"print\",command=myfunc)\n",
    "\n",
    "win10.config(menu=filemenu)\n",
    "filemenu.add_cascade(label=\"File\",menu=m1)\n",
    "\n",
    "win10.mainloop()"
   ]
  },
  {
   "cell_type": "markdown",
   "id": "f75800ee-d993-4f41-9851-bec82e84a5e8",
   "metadata": {},
   "source": [
    "Message BOX"
   ]
  },
  {
   "cell_type": "code",
   "execution_count": 12,
   "id": "53797568-5a7b-4ba1-8f21-f645496fd2ef",
   "metadata": {},
   "outputs": [],
   "source": [
    "import tkinter.messagebox as tmsg\n",
    "win11=Tk()\n",
    "\n",
    "def help():\n",
    "    a=tmsg.showinfo(\"Help\",\"this will help you !!!\")\n",
    "    lab=Label(win11,text=a)\n",
    "    lab.pack()\n",
    "\n",
    "def questions():\n",
    "     a=tmsg.askquestion(\"have you enjoy it ??\",\"will this help you ??? \")\n",
    "     lab=Label(win11,text=a)\n",
    "     lab.pack()\n",
    "\n",
    "but=Button(text=\"help\",command=help)\n",
    "but1=Button(text=\"question\",command=questions)\n",
    "but1.pack()\n",
    "but.pack()\n",
    "\n",
    "win11.mainloop()"
   ]
  },
  {
   "cell_type": "markdown",
   "id": "aa490d6f-f07a-40d5-a9ab-9361e4f8da49",
   "metadata": {},
   "source": [
    "Radio button\n"
   ]
  },
  {
   "cell_type": "code",
   "execution_count": 29,
   "id": "f1b570a7-2111-4353-b8d8-217712bd0be6",
   "metadata": {},
   "outputs": [
    {
     "name": "stdout",
     "output_type": "stream",
     "text": [
      "4\n",
      "3\n",
      "1\n"
     ]
    }
   ],
   "source": [
    "win11=Tk()\n",
    "\n",
    "def getVal():\n",
    "    print(var.get())\n",
    "\n",
    "win11.geometry(\"500x500\")\n",
    "var=IntVar()\n",
    "Label(win11,text=\"enter your choice\")\n",
    "radio=Radiobutton(win11,text=\"first\",padx=14,variable=var,value=1).pack()\n",
    "radio=Radiobutton(win11,text=\"secound\",padx=14,variable=var,value=2).pack()\n",
    "radio=Radiobutton(win11,text=\"third\",padx=14,variable=var,value=3).pack()\n",
    "radio=Radiobutton(win11,text=\"fourth\",padx=14,variable=var,value=4).pack()\n",
    "radio=Radiobutton(win11,text=\"fifth\",padx=14,variable=var,value=5).pack()\n",
    "Button(win11,text=\"get value\",command=getVal).pack()\n",
    "\n",
    "win11.mainloop()"
   ]
  },
  {
   "cell_type": "markdown",
   "id": "f6ddb60f-a389-471e-9324-6058296926ee",
   "metadata": {},
   "source": [
    "ListBox"
   ]
  },
  {
   "cell_type": "code",
   "execution_count": 33,
   "id": "592f9f53-b303-4bb9-8a89-ddef0b6fa3ee",
   "metadata": {},
   "outputs": [],
   "source": [
    "win12=Tk()\n",
    "\n",
    "def add():\n",
    "    global i\n",
    "    lbx.insert(ACTIVE,f\"{i}\")\n",
    "    i+=10\n",
    "i=10\n",
    "win12.geometry(\"400x400\")\n",
    "\n",
    "lbx=Listbox(win12)\n",
    "lbx.pack()\n",
    "lbx.insert(END,\"first\")\n",
    "Button(win12,text=\"add item\",command=add).pack()\n",
    "\n",
    "win12.mainloop()"
   ]
  },
  {
   "cell_type": "markdown",
   "id": "c45669df-2b65-4e46-9cc9-cc6ae7cc09e3",
   "metadata": {},
   "source": [
    "scrollbar"
   ]
  },
  {
   "cell_type": "code",
   "execution_count": 40,
   "id": "a1dc11a2-1b7a-4171-8f81-729e4e7e47db",
   "metadata": {},
   "outputs": [],
   "source": [
    "win13=Tk()\n",
    "\n",
    "win13.geometry(\"400x400\")\n",
    "#for connecting scroolbar to a widget\n",
    "#1. widget(yscrollcommand=scrollbar.set)\n",
    "#2. scrollbar.config(command=widget.yview)\n",
    "\n",
    "scrollbar=Scrollbar(win13)\n",
    "scrollbar.pack(side=RIGHT,fill=Y)\n",
    "\n",
    "#for listbox\n",
    "'''\n",
    "listbox=Listbox(win13,yscrollcommand=scrollbar.set)\n",
    "for i in range(300):\n",
    "    listbox.insert(END,f\"Item{i}\")\n",
    "\n",
    "listbox.pack(fill=\"both\",padx=22)\n",
    "scrollbar.config(command=listbox.yview)\n",
    "'''\n",
    "\n",
    "#for text\n",
    "text=Text(win13,yscrollcommand=scrollbar.set)\n",
    "text.pack(fill=BOTH)\n",
    "scrollbar.config(command=text.yview)\n",
    "\n",
    "win13.mainloop()"
   ]
  },
  {
   "cell_type": "markdown",
   "id": "7eb773b5-2eb9-4628-85c0-756dc612076f",
   "metadata": {},
   "source": [
    "Status BAR"
   ]
  },
  {
   "cell_type": "code",
   "execution_count": 48,
   "id": "93ae6741-82e3-48e1-bccf-aa45dad6c6b1",
   "metadata": {},
   "outputs": [],
   "source": [
    "win14=Tk()\n",
    "\n",
    "win14.geometry(\"400x400\")\n",
    "\n",
    "def update():\n",
    "    statusvar.set(\"Busy...\")\n",
    "    sbar.update()\n",
    "    import time\n",
    "    time.sleep(2)\n",
    "    statusvar.set(\"ready now\")\n",
    "\n",
    "statusvar=StringVar()\n",
    "statusvar.set(\"ready\")\n",
    "sbar=Label(win14,textvariable=statusvar,relief=SUNKEN,anchor=\"w\")\n",
    "sbar.pack(side=BOTTOM,fill=X)\n",
    "\n",
    "Button(win14,text=\"update\",command=update).pack()\n",
    "\n",
    "win14.mainloop()"
   ]
  },
  {
   "cell_type": "markdown",
   "id": "39492eac-8366-4b52-a901-fbd8b8ab9a7f",
   "metadata": {},
   "source": [
    "OOP and CLASSES"
   ]
  },
  {
   "cell_type": "code",
   "execution_count": 4,
   "id": "5dbe11e9-74fb-4526-a257-21dedd26007e",
   "metadata": {},
   "outputs": [
    {
     "ename": "IndentationError",
     "evalue": "expected an indented block (<ipython-input-4-8d7973dc9ab4>, line 9)",
     "output_type": "error",
     "traceback": [
      "\u001b[1;36m  File \u001b[1;32m\"<ipython-input-4-8d7973dc9ab4>\"\u001b[1;36m, line \u001b[1;32m9\u001b[0m\n\u001b[1;33m    \u001b[0m\n\u001b[1;37m    ^\u001b[0m\n\u001b[1;31mIndentationError\u001b[0m\u001b[1;31m:\u001b[0m expected an indented block\n"
     ]
    }
   ],
   "source": [
    "class GUI(TK):\n",
    "    def __init__(self):\n",
    "            super().__init__()\n",
    "            self.geometry(\"500x500\")\n",
    "\n",
    "\n",
    "        \n",
    "if __name__ =='__main__':\n",
    "    \n",
    "    "
   ]
  },
  {
   "cell_type": "code",
   "execution_count": null,
   "id": "8782d8eb-0abd-4b48-b13b-1e143df78708",
   "metadata": {},
   "outputs": [],
   "source": []
  }
 ],
 "metadata": {
  "kernelspec": {
   "display_name": "Python 3",
   "language": "python",
   "name": "python3"
  },
  "language_info": {
   "codemirror_mode": {
    "name": "ipython",
    "version": 3
   },
   "file_extension": ".py",
   "mimetype": "text/x-python",
   "name": "python",
   "nbconvert_exporter": "python",
   "pygments_lexer": "ipython3",
   "version": "3.9.5"
  }
 },
 "nbformat": 4,
 "nbformat_minor": 5
}
