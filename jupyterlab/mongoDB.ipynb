{
 "cells": [
  {
   "cell_type": "code",
   "execution_count": 1,
   "id": "ed0b71a5-6044-492e-80e0-bad3a26a91fa",
   "metadata": {},
   "outputs": [],
   "source": [
    "import pymongo\n",
    "\n",
    "client=pymongo.MongoClient('mongodb://127.0.0.1:27017/')\n",
    "\n",
    "mydb=client['Employee']   #create and access database\n",
    "empinfo=mydb.employeeinformation  #create and access collection\n"
   ]
  },
  {
   "cell_type": "code",
   "execution_count": 2,
   "id": "49a10dc4-5d38-4551-a582-f7a09ce31611",
   "metadata": {},
   "outputs": [
    {
     "data": {
      "text/plain": [
       "<pymongo.results.InsertOneResult at 0x197cfbd3f80>"
      ]
     },
     "execution_count": 2,
     "metadata": {},
     "output_type": "execute_result"
    }
   ],
   "source": [
    "record={\n",
    "    'firstname':'raj',\n",
    "    'lastname':'tated',\n",
    "    'department':'Jajoo',\n",
    "    'age':15\n",
    "}\n",
    "empinfo.insert_one(record)  #insert single document"
   ]
  },
  {
   "cell_type": "code",
   "execution_count": 3,
   "id": "c84936f5-2638-44f2-bf1c-9db2052eb4b2",
   "metadata": {},
   "outputs": [
    {
     "data": {
      "text/plain": [
       "<pymongo.results.InsertManyResult at 0x197cfbd3c80>"
      ]
     },
     "execution_count": 3,
     "metadata": {},
     "output_type": "execute_result"
    }
   ],
   "source": [
    "records=[\n",
    "    {\n",
    "        'firstname':'daksh',\n",
    "        'lastname':'tated',\n",
    "        'department':'NEET',\n",
    "        'qualification':'12th',\n",
    "        'age':18\n",
    "    },\n",
    "    {\n",
    "     'firstname':'mitali',\n",
    "        'lastname':'jangir',\n",
    "        'department':'10th',\n",
    "        'qualification': 'none',\n",
    "        'age':18   \n",
    "    }\n",
    "]\n",
    "\n",
    "empinfo.insert_many(records) #insert many records"
   ]
  },
  {
   "cell_type": "markdown",
   "id": "79a836e4-8260-4ba0-b47f-d39f2d5fcfd9",
   "metadata": {},
   "source": [
    "getting information"
   ]
  },
  {
   "cell_type": "code",
   "execution_count": 4,
   "id": "b0a9dd18-e81f-4e53-9ae6-6e27b416e9b8",
   "metadata": {},
   "outputs": [
    {
     "data": {
      "text/plain": [
       "{'_id': ObjectId('60b31b36be4aae2fb5e94114'),\n",
       " 'firstname': 'jatin',\n",
       " 'lastname': 'jangir',\n",
       " 'branch': 'cse'}"
      ]
     },
     "execution_count": 4,
     "metadata": {},
     "output_type": "execute_result"
    }
   ],
   "source": [
    "#simple way of getting first document\n",
    "empinfo.find_one()"
   ]
  },
  {
   "cell_type": "code",
   "execution_count": 5,
   "id": "92cf5874-44c9-40b9-8347-f0c2c673a365",
   "metadata": {},
   "outputs": [
    {
     "name": "stdout",
     "output_type": "stream",
     "text": [
      "{'_id': ObjectId('60b31b36be4aae2fb5e94114'), 'firstname': 'jatin', 'lastname': 'jangir', 'branch': 'cse'}\n",
      "{'_id': ObjectId('60b39e23c7bb200e5e1dfb45'), 'firstname': 'raj', 'lastname': 'tated', 'department': 'Jajoo', 'age': 15}\n",
      "{'_id': ObjectId('60b39fc7c7bb200e5e1dfb46'), 'firstname': 'daksh', 'lastname': 'tated', 'department': 'NEET', 'qualification': '12th', 'age': 18}\n",
      "{'_id': ObjectId('60b39fc7c7bb200e5e1dfb47'), 'firstname': 'mitali', 'lastname': 'jangir', 'department': '10th', 'qualification': 'none', 'age': 18}\n",
      "{'_id': ObjectId('60b3a0247dc52ff862974e9b'), 'firstname': 'mitali', 'lastname': 'jangir', 'department': '10th', 'qualification': 'none', 'age': 18}\n"
     ]
    }
   ],
   "source": [
    "# to get particular records or document\n",
    "#similar to SELECT * FROM TABLE_NAME WHERE condition\n",
    "\n",
    "#to get all\n",
    "for record in empinfo.find():\n",
    "    print(record)"
   ]
  },
  {
   "cell_type": "code",
   "execution_count": 6,
   "id": "7aad1330-a504-4263-895f-5de3508adafa",
   "metadata": {},
   "outputs": [
    {
     "name": "stdout",
     "output_type": "stream",
     "text": [
      "{'_id': ObjectId('60b31b36be4aae2fb5e94114'), 'firstname': 'jatin', 'lastname': 'jangir', 'branch': 'cse'}\n",
      "{'_id': ObjectId('60b39e23c7bb200e5e1dfb45'), 'firstname': 'raj', 'lastname': 'tated', 'department': 'Jajoo', 'age': 15}\n",
      "{'_id': ObjectId('60b39fc7c7bb200e5e1dfb46'), 'firstname': 'daksh', 'lastname': 'tated', 'department': 'NEET', 'qualification': '12th', 'age': 18}\n",
      "{'_id': ObjectId('60b39fc7c7bb200e5e1dfb47'), 'firstname': 'mitali', 'lastname': 'jangir', 'department': '10th', 'qualification': 'none', 'age': 18}\n",
      "{'_id': ObjectId('60b3a0247dc52ff862974e9b'), 'firstname': 'mitali', 'lastname': 'jangir', 'department': '10th', 'qualification': 'none', 'age': 18}\n"
     ]
    }
   ],
   "source": [
    "#another method\n",
    "for record in empinfo.find({}):\n",
    "    print(record)"
   ]
  },
  {
   "cell_type": "code",
   "execution_count": 7,
   "id": "364149cf-152a-4b30-a5fd-ee80f3cd4470",
   "metadata": {},
   "outputs": [
    {
     "name": "stdout",
     "output_type": "stream",
     "text": [
      "{'_id': ObjectId('60b39fc7c7bb200e5e1dfb46'), 'firstname': 'daksh', 'lastname': 'tated', 'department': 'NEET', 'qualification': '12th', 'age': 18}\n",
      "{'_id': ObjectId('60b39fc7c7bb200e5e1dfb47'), 'firstname': 'mitali', 'lastname': 'jangir', 'department': '10th', 'qualification': 'none', 'age': 18}\n",
      "{'_id': ObjectId('60b3a0247dc52ff862974e9b'), 'firstname': 'mitali', 'lastname': 'jangir', 'department': '10th', 'qualification': 'none', 'age': 18}\n"
     ]
    }
   ],
   "source": [
    "#query JSON document\n",
    "#here we pass condition in curly braces\n",
    "for record in empinfo.find({'age':18}):\n",
    "    print(record)"
   ]
  },
  {
   "cell_type": "code",
   "execution_count": 10,
   "id": "1b666487-d777-4e6a-b926-b68ca5e3afea",
   "metadata": {},
   "outputs": [
    {
     "name": "stdout",
     "output_type": "stream",
     "text": [
      "{'_id': ObjectId('60b39fc7c7bb200e5e1dfb46'), 'firstname': 'daksh', 'lastname': 'tated', 'department': 'NEET', 'qualification': '12th', 'age': 18}\n",
      "{'_id': ObjectId('60b39fc7c7bb200e5e1dfb47'), 'firstname': 'mitali', 'lastname': 'jangir', 'department': '10th', 'qualification': 'none', 'age': 18}\n"
     ]
    }
   ],
   "source": [
    "# query documents using query operators($in,$it,$gt)\n",
    "\n",
    "# $in gives range aur can used in Or condition\n",
    "for record in empinfo.find({'qualification':{'$in':['none','12th']}}):\n",
    "    print(record)"
   ]
  },
  {
   "cell_type": "code",
   "execution_count": 11,
   "id": "0f0d5395-74c8-4cdc-a001-1bbd6a0c0d1a",
   "metadata": {},
   "outputs": [
    {
     "name": "stdout",
     "output_type": "stream",
     "text": [
      "{'_id': ObjectId('60b39fc7c7bb200e5e1dfb47'), 'firstname': 'mitali', 'lastname': 'jangir', 'department': '10th', 'qualification': 'none', 'age': 18}\n"
     ]
    }
   ],
   "source": [
    "# AND condition\n",
    "'''\n",
    "for record in empinfo.find({'$or':[{'qualification':'12th'},{'lastname':'jangir'}]}):\n",
    "    print(record)\n",
    "'''\n",
    "for record in empinfo.find({'age':18,'department':'10th'}):\n",
    "    print(record)"
   ]
  },
  {
   "cell_type": "code",
   "execution_count": 12,
   "id": "6a038634-2fe5-4c40-b012-e30f8109cf3f",
   "metadata": {},
   "outputs": [
    {
     "name": "stdout",
     "output_type": "stream",
     "text": [
      "{'_id': ObjectId('60b31b36be4aae2fb5e94114'), 'firstname': 'jatin', 'lastname': 'jangir', 'branch': 'cse'}\n",
      "{'_id': ObjectId('60b39fc7c7bb200e5e1dfb46'), 'firstname': 'daksh', 'lastname': 'tated', 'department': 'NEET', 'qualification': '12th', 'age': 18}\n",
      "{'_id': ObjectId('60b39fc7c7bb200e5e1dfb47'), 'firstname': 'mitali', 'lastname': 'jangir', 'department': '10th', 'qualification': 'none', 'age': 18}\n"
     ]
    }
   ],
   "source": [
    "## OR operator\n",
    "for record in empinfo.find({'$or':[{'qualification':'12th'},{'lastname':'jangir'}]}):\n",
    "    print(record)"
   ]
  },
  {
   "cell_type": "markdown",
   "id": "0a38ca57-a1cb-41cd-9d0d-8403e6158cd2",
   "metadata": {},
   "source": [
    "\n",
    "\n",
    "Updating records\n",
    "\n"
   ]
  },
  {
   "cell_type": "code",
   "execution_count": 17,
   "id": "b1dc347c-6b29-4768-bda4-e8e43fd1ecb4",
   "metadata": {},
   "outputs": [
    {
     "data": {
      "text/plain": [
       "<pymongo.results.UpdateResult at 0x197cfbf60c0>"
      ]
     },
     "execution_count": 17,
     "metadata": {},
     "output_type": "execute_result"
    }
   ],
   "source": [
    "#update one document\n",
    "\n",
    "empinfo.update_one(\n",
    "     {'firstname':'jatin'},\n",
    "    { \"$set\":{ 'age':21 ,'qualification':'12th'},\n",
    "     '$currentDate':{'lastModified':True}}\n",
    ")"
   ]
  },
  {
   "cell_type": "code",
   "execution_count": 20,
   "id": "fcf0ed22-628b-4670-bff6-0a7e4fd9bcbf",
   "metadata": {},
   "outputs": [
    {
     "data": {
      "text/plain": [
       "<pymongo.results.UpdateResult at 0x197cfc1bbc0>"
      ]
     },
     "execution_count": 20,
     "metadata": {},
     "output_type": "execute_result"
    }
   ],
   "source": [
    "#update many \n",
    "\n",
    "empinfo.update_many(\n",
    "    {'age':18},\n",
    "    {\"$set\":{'age':20,'qualification':'10th'},\n",
    "    '$currentDate':{'lastModified':True}}\n",
    ")"
   ]
  },
  {
   "cell_type": "code",
   "execution_count": 21,
   "id": "51fec2bc-6574-4992-9520-3c8fa740314e",
   "metadata": {},
   "outputs": [
    {
     "data": {
      "text/plain": [
       "<pymongo.results.UpdateResult at 0x197cf794640>"
      ]
     },
     "execution_count": 21,
     "metadata": {},
     "output_type": "execute_result"
    }
   ],
   "source": [
    "# replace here we lost previous data\n",
    "\n",
    "empinfo.replace_one(\n",
    "  {'firstname':'jatin','qualification':'12th'},\n",
    "    {\n",
    "        'firstname':'JATIN',\n",
    "        'qualification':[\n",
    "            {'engineering':'2nd year'},\n",
    "            {'10th':94.2},\n",
    "            {'12th':78.6}\n",
    "        ]\n",
    "    }\n",
    ")"
   ]
  },
  {
   "cell_type": "code",
   "execution_count": null,
   "id": "aac69a2d-ce79-434a-97fb-bdee6400e513",
   "metadata": {},
   "outputs": [],
   "source": []
  }
 ],
 "metadata": {
  "kernelspec": {
   "display_name": "Python 3",
   "language": "python",
   "name": "python3"
  },
  "language_info": {
   "codemirror_mode": {
    "name": "ipython",
    "version": 3
   },
   "file_extension": ".py",
   "mimetype": "text/x-python",
   "name": "python",
   "nbconvert_exporter": "python",
   "pygments_lexer": "ipython3",
   "version": "3.9.5"
  }
 },
 "nbformat": 4,
 "nbformat_minor": 5
}
